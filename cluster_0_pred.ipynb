{
 "cells": [
  {
   "cell_type": "code",
   "execution_count": null,
   "id": "6ff7a90e",
   "metadata": {},
   "outputs": [],
   "source": [
    "import numpy as np\n",
    "import pandas as pd\n",
    "import matplotlib.pyplot as plt\n",
    "\n",
    "from lightgbm import LGBMRegressor\n",
    "from xgboost import XGBRegressor as Xgb\n",
    "from sklearn.ensemble import RandomForestRegressor\n",
    "#SKforecast\n",
    "from sklearn.preprocessing import StandardScaler, MinMaxScaler\n",
    "from sklearn.metrics import mean_absolute_error\n",
    "from skforecast.datasets import fetch_dataset\n",
    "from skforecast.preprocessing import RollingFeatures\n",
    "from skforecast.recursive import ForecasterRecursiveMultiSeries\n",
    "from skforecast.model_selection import (\n",
    "    TimeSeriesFold,\n",
    "    backtesting_forecaster_multiseries,\n",
    "    grid_search_forecaster_multiseries,\n",
    "    bayesian_search_forecaster_multiseries\n",
    ")\n",
    "from skforecast.plot import set_dark_theme\n",
    "from skforecast.feature_selection import select_features_multiseries\n",
    "\n",
    "#SKLEARN\n",
    "from sklearn.feature_selection import RFECV\n",
    "from sklearn.metrics import mean_absolute_error\n",
    "from sklearn.model_selection import TimeSeriesSplit\n",
    "\n",
    "#MLFLOW\n",
    "import mlflow\n",
    "from mlflow.tracking import MlflowClient\n",
    "import pickle\n",
    "\n",
    "#Exogenous variables \n",
    "import holidays\n",
    "from vacances_scolaires_france import SchoolHolidayDates"
   ]
  },
  {
   "cell_type": "code",
   "execution_count": null,
   "id": "f4e620c9",
   "metadata": {},
   "outputs": [],
   "source": [
    "#vacances scolaires\n",
    "d = SchoolHolidayDates()\n",
    "dates_vacances=set()\n",
    "for y in (2023,2024):\n",
    "    vacances=d.holidays_for_year_and_zone(y, 'C')\n",
    "    dates_vacances.update(vacances.keys())\n",
    "\n",
    "#jours feriés\n",
    "feries = holidays.France(years=['2023','2024'])"
   ]
  },
  {
   "cell_type": "code",
   "execution_count": null,
   "id": "3dcb3364",
   "metadata": {},
   "outputs": [],
   "source": [
    "data = pd.read_csv(\"lit_cluster_0.csv\",index_col=\"date_semaine\", parse_dates=True)\n",
    "data=data.asfreq('W') \n",
    "list_uf =data.columns.tolist()\n",
    "\n",
    "data['vacances']= data.index.isin(dates_vacances).astype(int)\n",
    "data['feries'] = data.index.isin(feries).astype(int)\n",
    "data[\"month\"] = data.index.month\n",
    "data[\"day_of_week\"] = data.index.dayofweek\n",
    "data[\"day_of_month\"] = data.index.day\n",
    "data[\"week_of_year\"] = data.index.isocalendar().week\n",
    "\n",
    "exog_list=data.columns.drop(list_uf)"
   ]
  },
  {
   "cell_type": "code",
   "execution_count": null,
   "id": "d308fcca",
   "metadata": {},
   "outputs": [],
   "source": [
    "n_samples = len(data)\n",
    "train_size = int(0.6 * n_samples)  \n",
    "val_size = int(0.2 * n_samples)  \n",
    "\n",
    "data_train = data.iloc[:train_size]\n",
    "data_val = data.iloc[train_size:train_size + val_size]\n",
    "data_test = data.iloc[train_size + val_size:]\n",
    "\n",
    "print(f\"Total samples: {n_samples}\")\n",
    "print(f\"Train: {len(data_train)} samples : {data_train.index[0]} to {data_train.index[-1]}\")\n",
    "print(f\"Validation: {len(data_val)} samples : {data_val.index[0]} to {data_val.index[-1]}\")\n",
    "print(f\"Test: {len(data_test)} samples : {data_test.index[0]} to {data_test.index[-1]}\")"
   ]
  },
  {
   "cell_type": "code",
   "execution_count": null,
   "id": "bdff8513",
   "metadata": {},
   "outputs": [],
   "source": [
    "col=\"1015\"\n",
    "set_dark_theme()\n",
    "plt.figure(figsize=(12, 4))\n",
    " \n",
    "data_train[col].plot( label='train')\n",
    "data_val[col].plot( label='validation')\n",
    "data_test[col].plot( label='test')\n",
    "plt.show()"
   ]
  },
  {
   "cell_type": "code",
   "execution_count": null,
   "id": "f6985890",
   "metadata": {},
   "outputs": [],
   "source": [
    "# Create and train ForecasterRecursiveMultiSeries\n",
    "# ==============================================================================\n",
    "forecaster = ForecasterRecursiveMultiSeries(\n",
    "                 regressor          = RandomForestRegressor(n_estimators=100, random_state=42),\n",
    "                 lags               = 52,\n",
    "                 window_features    = RollingFeatures(stats=['mean', 'mean','mean','std','std','std'], window_sizes=[4, 24, 52, 4, 24, 52]),\n",
    "                 encoding           = 'ordinal'\n",
    "             )\n",
    "\n",
    "forecaster.fit(series=data_train[list_uf],\n",
    "               exog=data_train[exog_list],\n",
    "                store_in_sample_residuals=True)\n"
   ]
  },
  {
   "cell_type": "code",
   "execution_count": null,
   "id": "faf0eb79",
   "metadata": {},
   "outputs": [],
   "source": [
    "cv = TimeSeriesFold(\n",
    "         steps              = 21,\n",
    "         initial_train_size = len(data_train),\n",
    "         refit              = True,\n",
    "         fixed_train_size=True\n",
    "     )\n",
    "\n",
    "metrics_levels, backtest_predictions = backtesting_forecaster_multiseries(\n",
    "    forecaster            = forecaster,\n",
    "    series                = data.iloc[:train_size + val_size][list_uf],\n",
    "    exog                  = data.iloc[:train_size + val_size][exog_list],\n",
    "    cv                    = cv,\n",
    "    levels                = None,\n",
    "    metric                = 'mean_absolute_error',\n",
    "    add_aggregated_metric = True\n",
    ")\n",
    "\n",
    "print(\"Backtest metrics\")\n",
    "display(metrics_levels)\n",
    "print(\"\")\n",
    "print(\"Backtest predictions\")\n",
    "backtest_predictions.head(4)"
   ]
  },
  {
   "cell_type": "code",
   "execution_count": null,
   "id": "e102ca36",
   "metadata": {},
   "outputs": [],
   "source": [
    "\n",
    "tscv = TimeSeriesSplit(n_splits=3)\n",
    "regressor = LGBMRegressor(n_estimators=100, max_depth=5, random_state=15926, verbose=-1)\n",
    "selector = RFECV(estimator=regressor, step=1, cv=tscv, min_features_to_select=1,scoring='neg_mean_absolute_error')\n",
    "selected_lags, selected_window_features, selected_exog = select_features_multiseries(\n",
    "    forecaster      = forecaster,\n",
    "    selector        = selector,\n",
    "    series          = data.iloc[:train_size+val_size][list_uf],\n",
    "    exog            = data.iloc[:train_size+val_size][exog_list],\n",
    "    select_only     = None,\n",
    "    force_inclusion = None,\n",
    "    subsample       = 0.5,\n",
    "    random_state    = 123,\n",
    "    verbose         = False,\n",
    ")"
   ]
  },
  {
   "cell_type": "code",
   "execution_count": null,
   "id": "1b97861c",
   "metadata": {},
   "outputs": [],
   "source": [
    "stats=[]\n",
    "window_sizes=[]\n",
    "for i, value in enumerate(selected_window_features):\n",
    "    stats.append(selected_window_features[i].split(\"_\")[1])\n",
    "    window_sizes.append(int(selected_window_features[i].split(\"_\")[2]))\n",
    "\n",
    "forecaster.set_lags(lags=selected_lags)\n",
    "forecaster.set_window_features(window_features=RollingFeatures(stats=stats, window_sizes=window_sizes))"
   ]
  },
  {
   "cell_type": "code",
   "execution_count": null,
   "id": "a3b41b49",
   "metadata": {},
   "outputs": [],
   "source": [
    "levels = list_uf\n",
    "\n",
    "# Search space\n",
    "def search_space(trial):\n",
    "    search_space = {\n",
    "        # Core Random Forest parameters\n",
    "        'n_estimators'      : trial.suggest_int('n_estimators', 100, 1000),\n",
    "        'max_depth'         : trial.suggest_int('max_depth', 3, 20),\n",
    "        'min_samples_split' : trial.suggest_int('min_samples_split', 2, 20),\n",
    "        'min_samples_leaf'  : trial.suggest_int('min_samples_leaf', 1, 10),\n",
    "        \n",
    "        # Feature selection parameters\n",
    "        'max_features'      : trial.suggest_categorical('max_features', ['sqrt', 'log2', None]),\n",
    "        'max_samples'       : trial.suggest_float('max_samples', 0.5, 1.0),\n",
    "        \n",
    "        # Tree building parameters\n",
    "        'bootstrap'         : trial.suggest_categorical('bootstrap', [True, False]),\n",
    "        'min_weight_fraction_leaf': trial.suggest_float('min_weight_fraction_leaf', 0.0, 0.1),\n",
    "        'max_leaf_nodes'    : trial.suggest_int('max_leaf_nodes', 10, 1000),\n",
    "        \n",
    "        # Complexity control\n",
    "        'ccp_alpha'         : trial.suggest_float('ccp_alpha', 0.0, 0.1)\n",
    "    }\n",
    "\n",
    "    return search_space\n",
    "\n",
    "cv = TimeSeriesFold(\n",
    "         steps              = 21,\n",
    "         initial_train_size = len(data_train),\n",
    "         refit              = True,\n",
    "         fixed_train_size=False\n",
    "     )\n",
    "\n",
    "results, best_trial = bayesian_search_forecaster_multiseries(\n",
    "    forecaster       = forecaster,\n",
    "    series           = data.iloc[:train_size+val_size][list_uf],\n",
    "    exog             = data.iloc[:train_size+val_size][selected_exog],\n",
    "    search_space     = search_space,\n",
    "    cv               = cv,\n",
    "    levels           = list_uf,\n",
    "    metric           = 'mean_absolute_error',\n",
    "    aggregate_metric = ['weighted_average', 'average', 'pooling'],\n",
    "    n_trials         = 5\n",
    ")\n",
    "\n"
   ]
  },
  {
   "cell_type": "code",
   "execution_count": null,
   "id": "1f00344a",
   "metadata": {},
   "outputs": [],
   "source": [
    "forecaster.fit(\n",
    "    series = data.iloc[:train_size+val_size][list_uf],\n",
    "    exog= data.iloc[:train_size+val_size][selected_exog],\n",
    "    store_in_sample_residuals=True\n",
    ")"
   ]
  },
  {
   "cell_type": "code",
   "execution_count": 23,
   "id": "3bbf7666",
   "metadata": {},
   "outputs": [
    {
     "data": {
      "text/html": [
       "<pre style=\"white-space:pre;overflow-x:auto;line-height:normal;font-family:Menlo,'DejaVu Sans Mono',consolas,'Courier New',monospace\"><span style=\"color: #ffaf00; text-decoration-color: #ffaf00\">╭──────────────────────────────── MissingValuesWarning ────────────────────────────────╮</span>\n",
       "<span style=\"color: #ffaf00; text-decoration-color: #ffaf00\">│</span> `last_window` has missing values. Most of machine learning models do not allow       <span style=\"color: #ffaf00; text-decoration-color: #ffaf00\">│</span>\n",
       "<span style=\"color: #ffaf00; text-decoration-color: #ffaf00\">│</span> missing values. Prediction method may fail.                                          <span style=\"color: #ffaf00; text-decoration-color: #ffaf00\">│</span>\n",
       "<span style=\"color: #ffaf00; text-decoration-color: #ffaf00\">│</span>                                                                                      <span style=\"color: #ffaf00; text-decoration-color: #ffaf00\">│</span>\n",
       "<span style=\"color: #ffaf00; text-decoration-color: #ffaf00\">│</span> Category : MissingValuesWarning                                                      <span style=\"color: #ffaf00; text-decoration-color: #ffaf00\">│</span>\n",
       "<span style=\"color: #ffaf00; text-decoration-color: #ffaf00\">│</span> Location :                                                                           <span style=\"color: #ffaf00; text-decoration-color: #ffaf00\">│</span>\n",
       "<span style=\"color: #ffaf00; text-decoration-color: #ffaf00\">│</span> c:\\Users\\yessi\\anaconda3\\envs\\new_env\\Lib\\site-packages\\skforecast\\utils\\utils.py:98 <span style=\"color: #ffaf00; text-decoration-color: #ffaf00\">│</span>\n",
       "<span style=\"color: #ffaf00; text-decoration-color: #ffaf00\">│</span> 9                                                                                    <span style=\"color: #ffaf00; text-decoration-color: #ffaf00\">│</span>\n",
       "<span style=\"color: #ffaf00; text-decoration-color: #ffaf00\">│</span> Suppress : warnings.simplefilter('ignore', category=MissingValuesWarning)            <span style=\"color: #ffaf00; text-decoration-color: #ffaf00\">│</span>\n",
       "<span style=\"color: #ffaf00; text-decoration-color: #ffaf00\">╰──────────────────────────────────────────────────────────────────────────────────────╯</span>\n",
       "</pre>\n"
      ],
      "text/plain": [
       "\u001b[38;5;214m╭─\u001b[0m\u001b[38;5;214m───────────────────────────────\u001b[0m\u001b[38;5;214m MissingValuesWarning \u001b[0m\u001b[38;5;214m───────────────────────────────\u001b[0m\u001b[38;5;214m─╮\u001b[0m\n",
       "\u001b[38;5;214m│\u001b[0m `last_window` has missing values. Most of machine learning models do not allow       \u001b[38;5;214m│\u001b[0m\n",
       "\u001b[38;5;214m│\u001b[0m missing values. Prediction method may fail.                                          \u001b[38;5;214m│\u001b[0m\n",
       "\u001b[38;5;214m│\u001b[0m                                                                                      \u001b[38;5;214m│\u001b[0m\n",
       "\u001b[38;5;214m│\u001b[0m Category : MissingValuesWarning                                                      \u001b[38;5;214m│\u001b[0m\n",
       "\u001b[38;5;214m│\u001b[0m Location :                                                                           \u001b[38;5;214m│\u001b[0m\n",
       "\u001b[38;5;214m│\u001b[0m c:\\Users\\yessi\\anaconda3\\envs\\new_env\\Lib\\site-packages\\skforecast\\utils\\utils.py:98 \u001b[38;5;214m│\u001b[0m\n",
       "\u001b[38;5;214m│\u001b[0m 9                                                                                    \u001b[38;5;214m│\u001b[0m\n",
       "\u001b[38;5;214m│\u001b[0m Suppress : warnings.simplefilter('ignore', category=MissingValuesWarning)            \u001b[38;5;214m│\u001b[0m\n",
       "\u001b[38;5;214m╰──────────────────────────────────────────────────────────────────────────────────────╯\u001b[0m\n"
      ]
     },
     "metadata": {},
     "output_type": "display_data"
    },
    {
     "data": {
      "text/html": [
       "<pre style=\"white-space:pre;overflow-x:auto;line-height:normal;font-family:Menlo,'DejaVu Sans Mono',consolas,'Courier New',monospace\"><span style=\"color: #ffaf00; text-decoration-color: #ffaf00\">╭────────────────────────────────── DataTypeWarning ───────────────────────────────────╮</span>\n",
       "<span style=\"color: #ffaf00; text-decoration-color: #ffaf00\">│</span> `exog` may contain only `int`, `float` or `category` dtypes. Most machine learning   <span style=\"color: #ffaf00; text-decoration-color: #ffaf00\">│</span>\n",
       "<span style=\"color: #ffaf00; text-decoration-color: #ffaf00\">│</span> models do not allow other types of values. Fitting the forecaster may fail.          <span style=\"color: #ffaf00; text-decoration-color: #ffaf00\">│</span>\n",
       "<span style=\"color: #ffaf00; text-decoration-color: #ffaf00\">│</span>                                                                                      <span style=\"color: #ffaf00; text-decoration-color: #ffaf00\">│</span>\n",
       "<span style=\"color: #ffaf00; text-decoration-color: #ffaf00\">│</span> Category : DataTypeWarning                                                           <span style=\"color: #ffaf00; text-decoration-color: #ffaf00\">│</span>\n",
       "<span style=\"color: #ffaf00; text-decoration-color: #ffaf00\">│</span> Location :                                                                           <span style=\"color: #ffaf00; text-decoration-color: #ffaf00\">│</span>\n",
       "<span style=\"color: #ffaf00; text-decoration-color: #ffaf00\">│</span> c:\\Users\\yessi\\anaconda3\\envs\\new_env\\Lib\\site-packages\\skforecast\\utils\\utils.py:63 <span style=\"color: #ffaf00; text-decoration-color: #ffaf00\">│</span>\n",
       "<span style=\"color: #ffaf00; text-decoration-color: #ffaf00\">│</span> 8                                                                                    <span style=\"color: #ffaf00; text-decoration-color: #ffaf00\">│</span>\n",
       "<span style=\"color: #ffaf00; text-decoration-color: #ffaf00\">│</span> Suppress : warnings.simplefilter('ignore', category=DataTypeWarning)                 <span style=\"color: #ffaf00; text-decoration-color: #ffaf00\">│</span>\n",
       "<span style=\"color: #ffaf00; text-decoration-color: #ffaf00\">╰──────────────────────────────────────────────────────────────────────────────────────╯</span>\n",
       "</pre>\n"
      ],
      "text/plain": [
       "\u001b[38;5;214m╭─\u001b[0m\u001b[38;5;214m─────────────────────────────────\u001b[0m\u001b[38;5;214m DataTypeWarning \u001b[0m\u001b[38;5;214m──────────────────────────────────\u001b[0m\u001b[38;5;214m─╮\u001b[0m\n",
       "\u001b[38;5;214m│\u001b[0m `exog` may contain only `int`, `float` or `category` dtypes. Most machine learning   \u001b[38;5;214m│\u001b[0m\n",
       "\u001b[38;5;214m│\u001b[0m models do not allow other types of values. Fitting the forecaster may fail.          \u001b[38;5;214m│\u001b[0m\n",
       "\u001b[38;5;214m│\u001b[0m                                                                                      \u001b[38;5;214m│\u001b[0m\n",
       "\u001b[38;5;214m│\u001b[0m Category : DataTypeWarning                                                           \u001b[38;5;214m│\u001b[0m\n",
       "\u001b[38;5;214m│\u001b[0m Location :                                                                           \u001b[38;5;214m│\u001b[0m\n",
       "\u001b[38;5;214m│\u001b[0m c:\\Users\\yessi\\anaconda3\\envs\\new_env\\Lib\\site-packages\\skforecast\\utils\\utils.py:63 \u001b[38;5;214m│\u001b[0m\n",
       "\u001b[38;5;214m│\u001b[0m 8                                                                                    \u001b[38;5;214m│\u001b[0m\n",
       "\u001b[38;5;214m│\u001b[0m Suppress : warnings.simplefilter('ignore', category=DataTypeWarning)                 \u001b[38;5;214m│\u001b[0m\n",
       "\u001b[38;5;214m╰──────────────────────────────────────────────────────────────────────────────────────╯\u001b[0m\n"
      ]
     },
     "metadata": {},
     "output_type": "display_data"
    },
    {
     "name": "stdout",
     "output_type": "stream",
     "text": [
      "Mean Absolute Error for cluster 1: 1.07\n"
     ]
    }
   ],
   "source": [
    "\n",
    "preds = forecaster.predict(steps=21, exog=data.iloc[train_size+val_size:][selected_exog])\n",
    "maes=[]\n",
    "for col in list_uf:\n",
    "    mae = mean_absolute_error(data_test[col], preds[preds['level']==col]['pred'])\n",
    "    maes.append(mae)\n",
    "mmae = np.mean(maes)\n",
    "print(f\"Mean Absolute Error for cluster 1: {mmae:.2f}\")"
   ]
  },
  {
   "cell_type": "code",
   "execution_count": 24,
   "id": "2de8630e",
   "metadata": {},
   "outputs": [
    {
     "data": {
      "image/png": "[encoded data removed]",
      "text/plain": [
       "<Figure size 1200x400 with 1 Axes>"
      ]
     },
     "metadata": {},
     "output_type": "display_data"
    }
   ],
   "source": [
    "col=\"1015\"\n",
    "set_dark_theme()\n",
    "plt.figure(figsize=(12, 4))\n",
    " \n",
    "data_train[col].plot( label='train')\n",
    "data_val[col].plot( label='validation')\n",
    "data_test[col].plot( label='test')\n",
    "preds[preds['level']==col]['pred'].plot(label='prediction')\n",
    "plt.show()"
   ]
  },
  {
   "cell_type": "code",
   "execution_count": 25,
   "id": "7321ba4c",
   "metadata": {},
   "outputs": [
    {
     "name": "stdout",
     "output_type": "stream",
     "text": [
      "🏃 View run RF_final_c0 at: http://127.0.0.1:5000/#/experiments/0/runs/3968b90c5cbf49ed93474ed895cc9f02\n",
      "🧪 View experiment at: http://127.0.0.1:5000/#/experiments/0\n"
     ]
    }
   ],
   "source": [
    "mlflow.set_experiment(\"Default\")\n",
    "mlflow.set_tracking_uri(\"http://127.0.0.1:5000\")\n",
    "\n",
    "params = forecaster.regressor.get_params()\n",
    "params['lags'] = forecaster.lags\n",
    "params['window features'] = forecaster.window_features\n",
    "params['exogs'] = forecaster.exog_names_in_\n",
    "params['regressor'] = forecaster.regressor.__class__.__name__\n",
    "\n",
    "with mlflow.start_run(run_name='RF_final_c0') as run:\n",
    "    mlflow.log_params(params)\n",
    "    mlflow.log_metrics({\"MMAE test\" : 1.07})\n",
    "    # Save forecaster object as pickle\n",
    "    with open(\"RF_final_c0.pkl\", \"wb\") as f:\n",
    "        pickle.dump(forecaster, f)\n",
    "\n",
    "    # Log the pickle file as an artifact\n",
    "    mlflow.log_artifact(\"RF_final_c0.pkl\", artifact_path=\"pickle_folder\")"
   ]
  }
 ],
 "metadata": {
  "kernelspec": {
   "display_name": "new_env",
   "language": "python",
   "name": "python3"
  },
  "language_info": {
   "codemirror_mode": {
    "name": "ipython",
    "version": 3
   },
   "file_extension": ".py",
   "mimetype": "text/x-python",
   "name": "python",
   "nbconvert_exporter": "python",
   "pygments_lexer": "ipython3",
   "version": "3.11.11"
  }
 },
 "nbformat": 4,
 "nbformat_minor": 5
}
