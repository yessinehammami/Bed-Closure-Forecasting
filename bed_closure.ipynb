{
 "cells": [
  {
   "cell_type": "code",
   "execution_count": null,
   "id": "d3ab8742",
   "metadata": {},
   "outputs": [],
   "source": [
    "import pandas as pd \n",
    "import numpy as np\n",
    "import matplotlib.pyplot as plt\n",
    "\n",
    "from tslearn.clustering import TimeSeriesKMeans\n",
    "from tslearn.datasets import CachedDatasets\n",
    "from tslearn.preprocessing import TimeSeriesScalerMeanVariance, \\\n",
    "    TimeSeriesResampler"
   ]
  },
  {
   "cell_type": "code",
   "execution_count": null,
   "id": "b953e97b",
   "metadata": {},
   "outputs": [],
   "source": [
    "def process_lit(path, year):\n",
    "    lit=pd.read_excel(path).replace(\"-\", \"0\").fillna(0)\n",
    "    lit = lit.pivot(index=\"Semaine\", columns=\"Code UF\", values=\"Lits fermés moyens\")\n",
    "    lit['date_semaine'] = pd.date_range(start=f'{year}-01-01', periods=52, freq='W')\n",
    "    lit.set_index('date_semaine', inplace=True)\n",
    "    return lit"
   ]
  },
  {
   "cell_type": "code",
   "execution_count": null,
   "id": "064dbb79",
   "metadata": {},
   "outputs": [],
   "source": [
    "lit_24= process_lit(r\"C:\\Stage\\generated_data\\lits\\lit_2024.xlsx\", 2024)\n",
    "lit_23= process_lit(r\"C:\\Stage\\generated_data\\lits\\lit_2023.xlsx\", 2023)\n",
    "lit= pd.concat([lit_23, lit_24], axis=0).fillna(0)\n",
    "X_train = lit.T.values[:, :,np.newaxis]\n"
   ]
  },
  {
   "cell_type": "code",
   "execution_count": null,
   "id": "4b4eb48f",
   "metadata": {},
   "outputs": [],
   "source": [
    "km = TimeSeriesKMeans(n_clusters=3, metric=\"dtw\", random_state=0)\n",
    "y_pred = km.fit_predict(X_train)\n"
   ]
  },
  {
   "cell_type": "code",
   "execution_count": null,
   "id": "2dd47e78",
   "metadata": {},
   "outputs": [],
   "source": [
    "plt.figure(figsize=(12, 4))\n",
    "for yi in range(1,4):  # clusters 0, 1, 2\n",
    "    plt.subplot(1, 3, yi + 1)\n",
    "    for xx in X_train[y_pred == yi]:\n",
    "        plt.plot(xx.ravel(), \"k-\", alpha=0.3)\n",
    "    plt.title(f\"Cluster {yi}\")\n",
    "\n",
    "plt.tight_layout()\n",
    "plt.show()"
   ]
  }
 ],
 "metadata": {
  "kernelspec": {
   "display_name": "new_env",
   "language": "python",
   "name": "python3"
  },
  "language_info": {
   "codemirror_mode": {
    "name": "ipython",
    "version": 3
   },
   "file_extension": ".py",
   "mimetype": "text/x-python",
   "name": "python",
   "nbconvert_exporter": "python",
   "pygments_lexer": "ipython3",
   "version": "3.11.11"
  }
 },
 "nbformat": 4,
 "nbformat_minor": 5
}
